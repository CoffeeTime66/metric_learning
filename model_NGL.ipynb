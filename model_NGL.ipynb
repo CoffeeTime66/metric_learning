{
  "metadata": {
    "kernelspec": {
      "display_name": "Python 3",
      "language": "python",
      "name": "python3"
    },
    "language_info": {
      "name": "python",
      "version": "3.10.13",
      "mimetype": "text/x-python",
      "codemirror_mode": {
        "name": "ipython",
        "version": 3
      },
      "pygments_lexer": "ipython3",
      "nbconvert_exporter": "python",
      "file_extension": ".py"
    },
    "kaggle": {
      "accelerator": "nvidiaTeslaT4",
      "dataSources": [
        {
          "sourceId": 6818,
          "databundleVersionId": 1960702,
          "sourceType": "competition"
        }
      ],
      "dockerImageVersionId": 30699,
      "isInternetEnabled": true,
      "language": "python",
      "sourceType": "notebook",
      "isGpuEnabled": true
    },
    "colab": {
      "name": "notebookfb7a4d62c5",
      "provenance": []
    }
  },
  "nbformat_minor": 5,
  "nbformat": 4,
  "cells": [
    {
      "cell_type": "code",
      "source": [
        "import numpy as np\n",
        "import pandas as pd\n",
        "import tensorflow\n",
        "import matplotlib.pyplot as plt\n",
        "\n",
        "import zipfile\n",
        "\n",
        "from tensorflow.keras.preprocessing import image\n",
        "from sklearn.preprocessing import LabelEncoder\n",
        "from tensorflow.keras.utils import to_categorical\n",
        "from sklearn.model_selection import train_test_split\n",
        "\n",
        "from tensorflow.keras.models import Sequential\n",
        "from tensorflow.keras.optimizers import Adam\n",
        "from tensorflow.keras.callbacks import CSVLogger, ReduceLROnPlateau\n",
        "from tensorflow.keras.applications.inception_v3 import InceptionV3, preprocess_input\n",
        "from tensorflow.keras.layers import Dense, Flatten, Dropout, UpSampling2D, BatchNormalization, Conv2D, MaxPool2D\n",
        "from tensorflow.keras.preprocessing.image import ImageDataGenerator\n",
        "\n",
        "import os\n",
        "print(os.listdir(\"../input/humpback-whale-identification/\"))\n",
        "\n",
        "# import warnings\n",
        "import warnings\n",
        "# filter warnings\n",
        "warnings.filterwarnings('ignore')"
      ],
      "metadata": {
        "ExecuteTime": {
          "end_time": "2024-04-25T14:33:53.25678Z",
          "start_time": "2024-04-25T14:33:53.241746Z"
        },
        "execution": {
          "iopub.status.busy": "2024-04-25T22:31:20.06639Z",
          "iopub.execute_input": "2024-04-25T22:31:20.066734Z",
          "iopub.status.idle": "2024-04-25T22:31:34.048267Z",
          "shell.execute_reply.started": "2024-04-25T22:31:20.066704Z",
          "shell.execute_reply": "2024-04-25T22:31:34.047115Z"
        },
        "trusted": true,
        "id": "xzHaoAA81m1y",
        "outputId": "bb9e8fcd-2559-48ce-d9b9-d6ee4276b533"
      },
      "execution_count": null,
      "outputs": [
        {
          "name": "stderr",
          "text": "2024-04-25 22:31:22.576079: E external/local_xla/xla/stream_executor/cuda/cuda_dnn.cc:9261] Unable to register cuDNN factory: Attempting to register factory for plugin cuDNN when one has already been registered\n2024-04-25 22:31:22.576172: E external/local_xla/xla/stream_executor/cuda/cuda_fft.cc:607] Unable to register cuFFT factory: Attempting to register factory for plugin cuFFT when one has already been registered\n2024-04-25 22:31:22.737100: E external/local_xla/xla/stream_executor/cuda/cuda_blas.cc:1515] Unable to register cuBLAS factory: Attempting to register factory for plugin cuBLAS when one has already been registered\n",
          "output_type": "stream"
        },
        {
          "name": "stdout",
          "text": "['sample_submission.csv', 'train.csv', 'test', 'train']\n",
          "output_type": "stream"
        }
      ],
      "id": "xzHaoAA81m1y"
    },
    {
      "cell_type": "code",
      "source": [
        "# Читаем csv файл для train датасета\n",
        "train = pd.read_csv(\"../input/humpback-whale-identification/train.csv\")"
      ],
      "metadata": {
        "ExecuteTime": {
          "end_time": "2024-04-25T14:34:02.100967Z",
          "start_time": "2024-04-25T14:34:02.068056Z"
        },
        "execution": {
          "iopub.status.busy": "2024-04-25T22:31:34.050067Z",
          "iopub.execute_input": "2024-04-25T22:31:34.050656Z",
          "iopub.status.idle": "2024-04-25T22:31:34.27001Z",
          "shell.execute_reply.started": "2024-04-25T22:31:34.050628Z",
          "shell.execute_reply": "2024-04-25T22:31:34.269189Z"
        },
        "trusted": true,
        "id": "fDCWXnxG1m1z"
      },
      "execution_count": null,
      "outputs": [],
      "id": "fDCWXnxG1m1z"
    },
    {
      "cell_type": "code",
      "source": [
        "# Посмотрим статистику\n",
        "train.describe()"
      ],
      "metadata": {
        "ExecuteTime": {
          "end_time": "2024-04-25T14:34:03.755541Z",
          "start_time": "2024-04-25T14:34:03.708666Z"
        },
        "execution": {
          "iopub.status.busy": "2024-04-25T22:31:34.271165Z",
          "iopub.execute_input": "2024-04-25T22:31:34.271469Z",
          "iopub.status.idle": "2024-04-25T22:31:34.328853Z",
          "shell.execute_reply.started": "2024-04-25T22:31:34.271444Z",
          "shell.execute_reply": "2024-04-25T22:31:34.328006Z"
        },
        "trusted": true,
        "id": "LzbHALYr1m10",
        "outputId": "a0f2ad19-3f1b-4777-cef2-d0595953d81c"
      },
      "execution_count": null,
      "outputs": [
        {
          "execution_count": 3,
          "output_type": "execute_result",
          "data": {
            "text/plain": "                Image         Id\ncount           25361      25361\nunique          25361       5005\ntop     fffde072b.jpg  new_whale\nfreq                1       9664",
            "text/html": "<div>\n<style scoped>\n    .dataframe tbody tr th:only-of-type {\n        vertical-align: middle;\n    }\n\n    .dataframe tbody tr th {\n        vertical-align: top;\n    }\n\n    .dataframe thead th {\n        text-align: right;\n    }\n</style>\n<table border=\"1\" class=\"dataframe\">\n  <thead>\n    <tr style=\"text-align: right;\">\n      <th></th>\n      <th>Image</th>\n      <th>Id</th>\n    </tr>\n  </thead>\n  <tbody>\n    <tr>\n      <th>count</th>\n      <td>25361</td>\n      <td>25361</td>\n    </tr>\n    <tr>\n      <th>unique</th>\n      <td>25361</td>\n      <td>5005</td>\n    </tr>\n    <tr>\n      <th>top</th>\n      <td>fffde072b.jpg</td>\n      <td>new_whale</td>\n    </tr>\n    <tr>\n      <th>freq</th>\n      <td>1</td>\n      <td>9664</td>\n    </tr>\n  </tbody>\n</table>\n</div>"
          },
          "metadata": {}
        }
      ],
      "id": "LzbHALYr1m10"
    },
    {
      "cell_type": "code",
      "source": [
        "# Посмотрим первые 5 элементов\n",
        "train.head()"
      ],
      "metadata": {
        "ExecuteTime": {
          "end_time": "2024-04-25T14:34:05.647536Z",
          "start_time": "2024-04-25T14:34:05.625596Z"
        },
        "execution": {
          "iopub.status.busy": "2024-04-25T22:31:34.331123Z",
          "iopub.execute_input": "2024-04-25T22:31:34.331434Z",
          "iopub.status.idle": "2024-04-25T22:31:34.34078Z",
          "shell.execute_reply.started": "2024-04-25T22:31:34.33141Z",
          "shell.execute_reply": "2024-04-25T22:31:34.339666Z"
        },
        "trusted": true,
        "id": "NoHN1vtB1m11",
        "outputId": "32299901-86d7-4250-bc43-7f615db22dc4"
      },
      "execution_count": null,
      "outputs": [
        {
          "execution_count": 4,
          "output_type": "execute_result",
          "data": {
            "text/plain": "           Image         Id\n0  0000e88ab.jpg  w_f48451c\n1  0001f9222.jpg  w_c3d896a\n2  00029d126.jpg  w_20df2c5\n3  00050a15a.jpg  new_whale\n4  0005c1ef8.jpg  new_whale",
            "text/html": "<div>\n<style scoped>\n    .dataframe tbody tr th:only-of-type {\n        vertical-align: middle;\n    }\n\n    .dataframe tbody tr th {\n        vertical-align: top;\n    }\n\n    .dataframe thead th {\n        text-align: right;\n    }\n</style>\n<table border=\"1\" class=\"dataframe\">\n  <thead>\n    <tr style=\"text-align: right;\">\n      <th></th>\n      <th>Image</th>\n      <th>Id</th>\n    </tr>\n  </thead>\n  <tbody>\n    <tr>\n      <th>0</th>\n      <td>0000e88ab.jpg</td>\n      <td>w_f48451c</td>\n    </tr>\n    <tr>\n      <th>1</th>\n      <td>0001f9222.jpg</td>\n      <td>w_c3d896a</td>\n    </tr>\n    <tr>\n      <th>2</th>\n      <td>00029d126.jpg</td>\n      <td>w_20df2c5</td>\n    </tr>\n    <tr>\n      <th>3</th>\n      <td>00050a15a.jpg</td>\n      <td>new_whale</td>\n    </tr>\n    <tr>\n      <th>4</th>\n      <td>0005c1ef8.jpg</td>\n      <td>new_whale</td>\n    </tr>\n  </tbody>\n</table>\n</div>"
          },
          "metadata": {}
        }
      ],
      "id": "NoHN1vtB1m11"
    },
    {
      "cell_type": "code",
      "source": [
        "# Разделим Id китов и их изображения\n",
        "y_train = train[\"Id\"]\n",
        "xtrain = train.drop(labels = [\"Id\"], axis = 1)\n",
        "y_train.head()"
      ],
      "metadata": {
        "ExecuteTime": {
          "end_time": "2024-04-25T14:34:12.037596Z",
          "start_time": "2024-04-25T14:34:12.023633Z"
        },
        "execution": {
          "iopub.status.busy": "2024-04-25T22:31:34.341878Z",
          "iopub.execute_input": "2024-04-25T22:31:34.342189Z",
          "iopub.status.idle": "2024-04-25T22:31:34.357382Z",
          "shell.execute_reply.started": "2024-04-25T22:31:34.34216Z",
          "shell.execute_reply": "2024-04-25T22:31:34.356348Z"
        },
        "trusted": true,
        "id": "AEalrInM1m12",
        "outputId": "37732db6-aa15-4759-9b5f-afaa9c1f8b5d"
      },
      "execution_count": null,
      "outputs": [
        {
          "execution_count": 5,
          "output_type": "execute_result",
          "data": {
            "text/plain": "0    w_f48451c\n1    w_c3d896a\n2    w_20df2c5\n3    new_whale\n4    new_whale\nName: Id, dtype: object"
          },
          "metadata": {}
        }
      ],
      "id": "AEalrInM1m12"
    },
    {
      "cell_type": "code",
      "source": [
        "def prepareImages(train, shape, path):\n",
        "\n",
        "    x_train = np.zeros((shape, 100, 100, 3))\n",
        "    count = 0\n",
        "\n",
        "    for fig in train['Image']:\n",
        "\n",
        "        #Загрузим изображения с форматом 100x100x3\n",
        "\n",
        "        image = tensorflow.io.read_file(\"../input/humpback-whale-identification/\"+path+\"/\"+fig)\n",
        "        x = tensorflow.image.decode_jpeg(image, channels = 3)\n",
        "        x = tensorflow.image.resize(x, [100,100])\n",
        "        x = preprocess_input(x)\n",
        "        x = x / 225\n",
        "\n",
        "        x_train[count] = x\n",
        "        if (count%5000 == 0):\n",
        "            print(\"Processing image: \", count, \", \", fig)\n",
        "        count += 1\n",
        "\n",
        "    return x_train"
      ],
      "metadata": {
        "ExecuteTime": {
          "end_time": "2024-04-25T14:34:12.100427Z",
          "start_time": "2024-04-25T14:34:12.086466Z"
        },
        "execution": {
          "iopub.status.busy": "2024-04-25T22:31:34.358562Z",
          "iopub.execute_input": "2024-04-25T22:31:34.358878Z",
          "iopub.status.idle": "2024-04-25T22:31:34.366597Z",
          "shell.execute_reply.started": "2024-04-25T22:31:34.358854Z",
          "shell.execute_reply": "2024-04-25T22:31:34.365835Z"
        },
        "trusted": true,
        "id": "KIiGpRFS1m13"
      },
      "execution_count": null,
      "outputs": [],
      "id": "KIiGpRFS1m13"
    },
    {
      "cell_type": "code",
      "source": [
        "x_train = prepareImages(train, train.shape[0], \"train\")"
      ],
      "metadata": {
        "jupyter": {
          "is_executing": true
        },
        "ExecuteTime": {
          "start_time": "2024-04-25T14:34:12.10342Z"
        },
        "execution": {
          "iopub.status.busy": "2024-04-25T22:31:34.367608Z",
          "iopub.execute_input": "2024-04-25T22:31:34.367916Z",
          "iopub.status.idle": "2024-04-25T22:37:46.228066Z",
          "shell.execute_reply.started": "2024-04-25T22:31:34.367883Z",
          "shell.execute_reply": "2024-04-25T22:37:46.227075Z"
        },
        "trusted": true,
        "id": "EQtbJk3A1m13",
        "outputId": "26da9134-c016-429c-c5a2-5770c01b0681"
      },
      "execution_count": null,
      "outputs": [
        {
          "name": "stdout",
          "text": "Processing image:  0 ,  0000e88ab.jpg\nProcessing image:  5000 ,  3347515d9.jpg\nProcessing image:  10000 ,  654951f81.jpg\nProcessing image:  15000 ,  97079398e.jpg\nProcessing image:  20000 ,  c960111d0.jpg\nProcessing image:  25000 ,  fc09f2302.jpg\n",
          "output_type": "stream"
        }
      ],
      "id": "EQtbJk3A1m13"
    },
    {
      "cell_type": "code",
      "source": [
        "print(\"xtrain shape: \",x_train.shape)"
      ],
      "metadata": {
        "jupyter": {
          "is_executing": true
        },
        "execution": {
          "iopub.status.busy": "2024-04-25T22:37:46.229319Z",
          "iopub.execute_input": "2024-04-25T22:37:46.229599Z",
          "iopub.status.idle": "2024-04-25T22:37:46.236303Z",
          "shell.execute_reply.started": "2024-04-25T22:37:46.229577Z",
          "shell.execute_reply": "2024-04-25T22:37:46.235328Z"
        },
        "trusted": true,
        "id": "xHm2itXG1m14",
        "outputId": "fdff6f29-015e-4a1b-c63e-ae9bd0b370cc"
      },
      "execution_count": null,
      "outputs": [
        {
          "name": "stdout",
          "text": "xtrain shape:  (25361, 100, 100, 3)\n",
          "output_type": "stream"
        }
      ],
      "id": "xHm2itXG1m14"
    },
    {
      "cell_type": "code",
      "source": [
        "label_encoder = LabelEncoder()\n",
        "y_train = label_encoder.fit_transform(y_train)\n",
        "y_train"
      ],
      "metadata": {
        "jupyter": {
          "is_executing": true
        },
        "execution": {
          "iopub.status.busy": "2024-04-25T22:37:46.237543Z",
          "iopub.execute_input": "2024-04-25T22:37:46.237964Z",
          "iopub.status.idle": "2024-04-25T22:37:46.275692Z",
          "shell.execute_reply.started": "2024-04-25T22:37:46.237929Z",
          "shell.execute_reply": "2024-04-25T22:37:46.27474Z"
        },
        "trusted": true,
        "id": "dcZDHaTd1m15",
        "outputId": "310a9025-75de-4c3e-f299-ac432d20d222"
      },
      "execution_count": null,
      "outputs": [
        {
          "execution_count": 9,
          "output_type": "execute_result",
          "data": {
            "text/plain": "array([4786, 3808,  662, ..., 3671, 3103,    0])"
          },
          "metadata": {}
        }
      ],
      "id": "dcZDHaTd1m15"
    },
    {
      "cell_type": "code",
      "source": [
        "y_train = to_categorical(y_train, num_classes = 5005)"
      ],
      "metadata": {
        "jupyter": {
          "is_executing": true
        },
        "execution": {
          "iopub.status.busy": "2024-04-25T22:37:46.279897Z",
          "iopub.execute_input": "2024-04-25T22:37:46.280774Z",
          "iopub.status.idle": "2024-04-25T22:37:46.353352Z",
          "shell.execute_reply.started": "2024-04-25T22:37:46.280734Z",
          "shell.execute_reply": "2024-04-25T22:37:46.352287Z"
        },
        "trusted": true,
        "id": "cB9DuTX_1m16"
      },
      "execution_count": null,
      "outputs": [],
      "id": "cB9DuTX_1m16"
    },
    {
      "cell_type": "code",
      "source": [
        "x_train, x_val, y_train, y_val = train_test_split(x_train, y_train, test_size = 0.1, random_state = 2024)"
      ],
      "metadata": {
        "execution": {
          "iopub.status.busy": "2024-04-25T22:37:46.354593Z",
          "iopub.execute_input": "2024-04-25T22:37:46.354992Z",
          "iopub.status.idle": "2024-04-25T22:37:49.045006Z",
          "shell.execute_reply.started": "2024-04-25T22:37:46.354958Z",
          "shell.execute_reply": "2024-04-25T22:37:49.043968Z"
        },
        "trusted": true,
        "id": "FdoGIUAC1m16"
      },
      "execution_count": null,
      "outputs": [],
      "id": "FdoGIUAC1m16"
    },
    {
      "cell_type": "code",
      "source": [
        "datagen = ImageDataGenerator(\n",
        "        featurewise_center=False,  # set input mean to 0 over the dataset\n",
        "        samplewise_center=False,  # set each sample mean to 0\n",
        "        featurewise_std_normalization=False,  # divide inputs by std of the dataset\n",
        "        samplewise_std_normalization=False,  # divide each input by its std\n",
        "        zca_whitening=False,  # apply ZCA whitening\n",
        "        rotation_range=10,  # randomly rotate images in the range (degrees, 0 to 180)\n",
        "        zoom_range = 0.1, # Randomly zoom image\n",
        "        width_shift_range=0.1,  # randomly shift images horizontally (fraction of total width)\n",
        "        height_shift_range=0.1,  # randomly shift images vertically (fraction of total height)\n",
        "        horizontal_flip=False,  # randomly flip images horizontally\n",
        "        vertical_flip=False)  # randomly flip images vertically\n",
        "\n",
        "\n",
        "datagen.fit(x_train)\n"
      ],
      "metadata": {
        "execution": {
          "iopub.status.busy": "2024-04-25T22:37:49.046188Z",
          "iopub.execute_input": "2024-04-25T22:37:49.046504Z",
          "iopub.status.idle": "2024-04-25T22:37:51.071949Z",
          "shell.execute_reply.started": "2024-04-25T22:37:49.046462Z",
          "shell.execute_reply": "2024-04-25T22:37:51.071164Z"
        },
        "trusted": true,
        "id": "Xbm9BCMg1m16"
      },
      "execution_count": null,
      "outputs": [],
      "id": "Xbm9BCMg1m16"
    },
    {
      "cell_type": "code",
      "source": [
        "x_train = tensorflow.convert_to_tensor(x_train)\n",
        "y_train = tensorflow.convert_to_tensor(y_train)\n",
        "x_val = tensorflow.convert_to_tensor(x_val)\n",
        "y_val = tensorflow.convert_to_tensor(y_val)"
      ],
      "metadata": {
        "jupyter": {
          "is_executing": true
        },
        "execution": {
          "iopub.status.busy": "2024-04-25T22:37:51.073057Z",
          "iopub.execute_input": "2024-04-25T22:37:51.073343Z",
          "iopub.status.idle": "2024-04-25T22:38:01.358104Z",
          "shell.execute_reply.started": "2024-04-25T22:37:51.073319Z",
          "shell.execute_reply": "2024-04-25T22:38:01.357047Z"
        },
        "trusted": true,
        "id": "9Dw4U7JI1m16"
      },
      "execution_count": null,
      "outputs": [],
      "id": "9Dw4U7JI1m16"
    },
    {
      "cell_type": "code",
      "source": [
        "train_dataset = tensorflow.data.Dataset.from_tensor_slices((x_train, y_train))\n",
        "train_dataset = train_dataset.shuffle(len(train_dataset)).batch(128)\n",
        "\n",
        "val_dataset = tensorflow.data.Dataset.from_tensor_slices((x_val, y_val))\n",
        "val_dataset = val_dataset.shuffle(len(train_dataset)).batch(1)"
      ],
      "metadata": {
        "execution": {
          "iopub.status.busy": "2024-04-25T22:38:01.359396Z",
          "iopub.execute_input": "2024-04-25T22:38:01.359708Z",
          "iopub.status.idle": "2024-04-25T22:38:07.180969Z",
          "shell.execute_reply.started": "2024-04-25T22:38:01.359682Z",
          "shell.execute_reply": "2024-04-25T22:38:07.180083Z"
        },
        "trusted": true,
        "id": "G_7jL0ue1m16"
      },
      "execution_count": null,
      "outputs": [],
      "id": "G_7jL0ue1m16"
    },
    {
      "cell_type": "code",
      "source": [
        "# Next Generation Loss function\n",
        "class NGL(tensorflow.keras.losses.Loss):\n",
        "    def __init__(\n",
        "    \tself,\n",
        "    \tscaling=False,\n",
        "    \tname=\"ngl_loss\"):\n",
        "        super().__init__(name=name)\n",
        "        self.name = name\n",
        "        self.scaling = scaling\n",
        "\n",
        "    def call(self, y_true, y_pred):\n",
        "        y_true = tensorflow.cast(y_true, tensorflow.float32)\n",
        "        y_pred = tensorflow.cast(y_pred, tensorflow.float32)\n",
        "        if self.scaling == True:\n",
        "\t \t        y_pred = tensorflow.math.sigmoid(y_pred)\n",
        "        part_1 = tensorflow.math.exp(2.4092 - y_pred - y_pred*y_true)\n",
        "        part_2 = tensorflow.math.cos(tensorflow.math.cos(tensorflow.math.sin(y_pred)))\n",
        "        elements = part_1 - part_2\n",
        "        loss = tensorflow.reduce_mean(elements)\n",
        "        return loss"
      ],
      "metadata": {
        "jupyter": {
          "is_executing": true
        },
        "execution": {
          "iopub.status.busy": "2024-04-25T22:38:07.182123Z",
          "iopub.execute_input": "2024-04-25T22:38:07.182399Z",
          "iopub.status.idle": "2024-04-25T22:38:07.189581Z",
          "shell.execute_reply.started": "2024-04-25T22:38:07.182376Z",
          "shell.execute_reply": "2024-04-25T22:38:07.188638Z"
        },
        "trusted": true,
        "id": "UGp83ZxH1m17"
      },
      "execution_count": null,
      "outputs": [],
      "id": "UGp83ZxH1m17"
    },
    {
      "cell_type": "code",
      "source": [
        "model = Sequential()\n",
        "\n",
        "model.add(Conv2D(filters = 16, kernel_size = (3,3), padding = 'Same', activation = 'relu', input_shape = (100,100,3)))\n",
        "model.add(Conv2D(filters = 16, kernel_size = (3,3), padding = 'Same', activation = 'relu'))\n",
        "model.add(MaxPool2D(pool_size = (2,2)))\n",
        "model.add(BatchNormalization())\n",
        "\n",
        "model.add(Conv2D(filters = 32, kernel_size = (3,3), padding = 'Same', activation = 'relu'))\n",
        "model.add(Conv2D(filters = 32, kernel_size = (3,3), padding = 'Same', activation = 'relu'))\n",
        "model.add(MaxPool2D(pool_size = (2,2), strides=(2,2)))\n",
        "model.add(Dropout(0.25))\n",
        "\n",
        "model.add(Conv2D(filters = 64, kernel_size = (3,3), padding = 'Same', activation = 'relu'))\n",
        "model.add(Conv2D(filters = 64, kernel_size = (3,3), padding = 'Same', activation = 'relu'))\n",
        "model.add(MaxPool2D(pool_size = (2,2), strides=(2,2)))\n",
        "model.add(BatchNormalization())\n",
        "\n",
        "# fully connected\n",
        "model.add(Flatten())\n",
        "model.add(Dense(256, activation = 'relu'))\n",
        "model.add(BatchNormalization())\n",
        "model.add(Dense(y_train.shape[1], activation = \"softmax\"))\n",
        "\n"
      ],
      "metadata": {
        "jupyter": {
          "is_executing": true
        },
        "execution": {
          "iopub.status.busy": "2024-04-25T22:38:07.190709Z",
          "iopub.execute_input": "2024-04-25T22:38:07.191044Z",
          "iopub.status.idle": "2024-04-25T22:38:07.437051Z",
          "shell.execute_reply.started": "2024-04-25T22:38:07.191016Z",
          "shell.execute_reply": "2024-04-25T22:38:07.436099Z"
        },
        "trusted": true,
        "id": "kBmA3SWa1m17"
      },
      "execution_count": null,
      "outputs": [],
      "id": "kBmA3SWa1m17"
    },
    {
      "cell_type": "code",
      "source": [
        "model.summary()"
      ],
      "metadata": {
        "execution": {
          "iopub.status.busy": "2024-04-25T22:38:07.438251Z",
          "iopub.execute_input": "2024-04-25T22:38:07.438531Z",
          "iopub.status.idle": "2024-04-25T22:38:07.471319Z",
          "shell.execute_reply.started": "2024-04-25T22:38:07.438508Z",
          "shell.execute_reply": "2024-04-25T22:38:07.470505Z"
        },
        "trusted": true,
        "id": "0Vd_j_FB1m17",
        "outputId": "f31a6e3d-509f-4b7b-f8fe-72e5f5741bf1"
      },
      "execution_count": null,
      "outputs": [
        {
          "output_type": "display_data",
          "data": {
            "text/plain": "\u001b[1mModel: \"sequential\"\u001b[0m\n",
            "text/html": "<pre style=\"white-space:pre;overflow-x:auto;line-height:normal;font-family:Menlo,'DejaVu Sans Mono',consolas,'Courier New',monospace\"><span style=\"font-weight: bold\">Model: \"sequential\"</span>\n</pre>\n"
          },
          "metadata": {}
        },
        {
          "output_type": "display_data",
          "data": {
            "text/plain": "┏━━━━━━━━━━━━━━━━━━━━━━━━━━━━━━━━━┳━━━━━━━━━━━━━━━━━━━━━━━━┳━━━━━━━━━━━━━━━┓\n┃\u001b[1m \u001b[0m\u001b[1mLayer (type)                   \u001b[0m\u001b[1m \u001b[0m┃\u001b[1m \u001b[0m\u001b[1mOutput Shape          \u001b[0m\u001b[1m \u001b[0m┃\u001b[1m \u001b[0m\u001b[1m      Param #\u001b[0m\u001b[1m \u001b[0m┃\n┡━━━━━━━━━━━━━━━━━━━━━━━━━━━━━━━━━╇━━━━━━━━━━━━━━━━━━━━━━━━╇━━━━━━━━━━━━━━━┩\n│ conv2d (\u001b[38;5;33mConv2D\u001b[0m)                 │ (\u001b[38;5;45mNone\u001b[0m, \u001b[38;5;34m100\u001b[0m, \u001b[38;5;34m100\u001b[0m, \u001b[38;5;34m16\u001b[0m)   │           \u001b[38;5;34m448\u001b[0m │\n├─────────────────────────────────┼────────────────────────┼───────────────┤\n│ conv2d_1 (\u001b[38;5;33mConv2D\u001b[0m)               │ (\u001b[38;5;45mNone\u001b[0m, \u001b[38;5;34m100\u001b[0m, \u001b[38;5;34m100\u001b[0m, \u001b[38;5;34m16\u001b[0m)   │         \u001b[38;5;34m2,320\u001b[0m │\n├─────────────────────────────────┼────────────────────────┼───────────────┤\n│ max_pooling2d (\u001b[38;5;33mMaxPooling2D\u001b[0m)    │ (\u001b[38;5;45mNone\u001b[0m, \u001b[38;5;34m50\u001b[0m, \u001b[38;5;34m50\u001b[0m, \u001b[38;5;34m16\u001b[0m)     │             \u001b[38;5;34m0\u001b[0m │\n├─────────────────────────────────┼────────────────────────┼───────────────┤\n│ batch_normalization             │ (\u001b[38;5;45mNone\u001b[0m, \u001b[38;5;34m50\u001b[0m, \u001b[38;5;34m50\u001b[0m, \u001b[38;5;34m16\u001b[0m)     │            \u001b[38;5;34m64\u001b[0m │\n│ (\u001b[38;5;33mBatchNormalization\u001b[0m)            │                        │               │\n├─────────────────────────────────┼────────────────────────┼───────────────┤\n│ conv2d_2 (\u001b[38;5;33mConv2D\u001b[0m)               │ (\u001b[38;5;45mNone\u001b[0m, \u001b[38;5;34m50\u001b[0m, \u001b[38;5;34m50\u001b[0m, \u001b[38;5;34m32\u001b[0m)     │         \u001b[38;5;34m4,640\u001b[0m │\n├─────────────────────────────────┼────────────────────────┼───────────────┤\n│ conv2d_3 (\u001b[38;5;33mConv2D\u001b[0m)               │ (\u001b[38;5;45mNone\u001b[0m, \u001b[38;5;34m50\u001b[0m, \u001b[38;5;34m50\u001b[0m, \u001b[38;5;34m32\u001b[0m)     │         \u001b[38;5;34m9,248\u001b[0m │\n├─────────────────────────────────┼────────────────────────┼───────────────┤\n│ max_pooling2d_1 (\u001b[38;5;33mMaxPooling2D\u001b[0m)  │ (\u001b[38;5;45mNone\u001b[0m, \u001b[38;5;34m25\u001b[0m, \u001b[38;5;34m25\u001b[0m, \u001b[38;5;34m32\u001b[0m)     │             \u001b[38;5;34m0\u001b[0m │\n├─────────────────────────────────┼────────────────────────┼───────────────┤\n│ dropout (\u001b[38;5;33mDropout\u001b[0m)               │ (\u001b[38;5;45mNone\u001b[0m, \u001b[38;5;34m25\u001b[0m, \u001b[38;5;34m25\u001b[0m, \u001b[38;5;34m32\u001b[0m)     │             \u001b[38;5;34m0\u001b[0m │\n├─────────────────────────────────┼────────────────────────┼───────────────┤\n│ conv2d_4 (\u001b[38;5;33mConv2D\u001b[0m)               │ (\u001b[38;5;45mNone\u001b[0m, \u001b[38;5;34m25\u001b[0m, \u001b[38;5;34m25\u001b[0m, \u001b[38;5;34m64\u001b[0m)     │        \u001b[38;5;34m18,496\u001b[0m │\n├─────────────────────────────────┼────────────────────────┼───────────────┤\n│ conv2d_5 (\u001b[38;5;33mConv2D\u001b[0m)               │ (\u001b[38;5;45mNone\u001b[0m, \u001b[38;5;34m25\u001b[0m, \u001b[38;5;34m25\u001b[0m, \u001b[38;5;34m64\u001b[0m)     │        \u001b[38;5;34m36,928\u001b[0m │\n├─────────────────────────────────┼────────────────────────┼───────────────┤\n│ max_pooling2d_2 (\u001b[38;5;33mMaxPooling2D\u001b[0m)  │ (\u001b[38;5;45mNone\u001b[0m, \u001b[38;5;34m12\u001b[0m, \u001b[38;5;34m12\u001b[0m, \u001b[38;5;34m64\u001b[0m)     │             \u001b[38;5;34m0\u001b[0m │\n├─────────────────────────────────┼────────────────────────┼───────────────┤\n│ batch_normalization_1           │ (\u001b[38;5;45mNone\u001b[0m, \u001b[38;5;34m12\u001b[0m, \u001b[38;5;34m12\u001b[0m, \u001b[38;5;34m64\u001b[0m)     │           \u001b[38;5;34m256\u001b[0m │\n│ (\u001b[38;5;33mBatchNormalization\u001b[0m)            │                        │               │\n├─────────────────────────────────┼────────────────────────┼───────────────┤\n│ flatten (\u001b[38;5;33mFlatten\u001b[0m)               │ (\u001b[38;5;45mNone\u001b[0m, \u001b[38;5;34m9216\u001b[0m)           │             \u001b[38;5;34m0\u001b[0m │\n├─────────────────────────────────┼────────────────────────┼───────────────┤\n│ dense (\u001b[38;5;33mDense\u001b[0m)                   │ (\u001b[38;5;45mNone\u001b[0m, \u001b[38;5;34m256\u001b[0m)            │     \u001b[38;5;34m2,359,552\u001b[0m │\n├─────────────────────────────────┼────────────────────────┼───────────────┤\n│ batch_normalization_2           │ (\u001b[38;5;45mNone\u001b[0m, \u001b[38;5;34m256\u001b[0m)            │         \u001b[38;5;34m1,024\u001b[0m │\n│ (\u001b[38;5;33mBatchNormalization\u001b[0m)            │                        │               │\n├─────────────────────────────────┼────────────────────────┼───────────────┤\n│ dense_1 (\u001b[38;5;33mDense\u001b[0m)                 │ (\u001b[38;5;45mNone\u001b[0m, \u001b[38;5;34m5005\u001b[0m)           │     \u001b[38;5;34m1,286,285\u001b[0m │\n└─────────────────────────────────┴────────────────────────┴───────────────┘\n",
            "text/html": "<pre style=\"white-space:pre;overflow-x:auto;line-height:normal;font-family:Menlo,'DejaVu Sans Mono',consolas,'Courier New',monospace\">┏━━━━━━━━━━━━━━━━━━━━━━━━━━━━━━━━━┳━━━━━━━━━━━━━━━━━━━━━━━━┳━━━━━━━━━━━━━━━┓\n┃<span style=\"font-weight: bold\"> Layer (type)                    </span>┃<span style=\"font-weight: bold\"> Output Shape           </span>┃<span style=\"font-weight: bold\">       Param # </span>┃\n┡━━━━━━━━━━━━━━━━━━━━━━━━━━━━━━━━━╇━━━━━━━━━━━━━━━━━━━━━━━━╇━━━━━━━━━━━━━━━┩\n│ conv2d (<span style=\"color: #0087ff; text-decoration-color: #0087ff\">Conv2D</span>)                 │ (<span style=\"color: #00d7ff; text-decoration-color: #00d7ff\">None</span>, <span style=\"color: #00af00; text-decoration-color: #00af00\">100</span>, <span style=\"color: #00af00; text-decoration-color: #00af00\">100</span>, <span style=\"color: #00af00; text-decoration-color: #00af00\">16</span>)   │           <span style=\"color: #00af00; text-decoration-color: #00af00\">448</span> │\n├─────────────────────────────────┼────────────────────────┼───────────────┤\n│ conv2d_1 (<span style=\"color: #0087ff; text-decoration-color: #0087ff\">Conv2D</span>)               │ (<span style=\"color: #00d7ff; text-decoration-color: #00d7ff\">None</span>, <span style=\"color: #00af00; text-decoration-color: #00af00\">100</span>, <span style=\"color: #00af00; text-decoration-color: #00af00\">100</span>, <span style=\"color: #00af00; text-decoration-color: #00af00\">16</span>)   │         <span style=\"color: #00af00; text-decoration-color: #00af00\">2,320</span> │\n├─────────────────────────────────┼────────────────────────┼───────────────┤\n│ max_pooling2d (<span style=\"color: #0087ff; text-decoration-color: #0087ff\">MaxPooling2D</span>)    │ (<span style=\"color: #00d7ff; text-decoration-color: #00d7ff\">None</span>, <span style=\"color: #00af00; text-decoration-color: #00af00\">50</span>, <span style=\"color: #00af00; text-decoration-color: #00af00\">50</span>, <span style=\"color: #00af00; text-decoration-color: #00af00\">16</span>)     │             <span style=\"color: #00af00; text-decoration-color: #00af00\">0</span> │\n├─────────────────────────────────┼────────────────────────┼───────────────┤\n│ batch_normalization             │ (<span style=\"color: #00d7ff; text-decoration-color: #00d7ff\">None</span>, <span style=\"color: #00af00; text-decoration-color: #00af00\">50</span>, <span style=\"color: #00af00; text-decoration-color: #00af00\">50</span>, <span style=\"color: #00af00; text-decoration-color: #00af00\">16</span>)     │            <span style=\"color: #00af00; text-decoration-color: #00af00\">64</span> │\n│ (<span style=\"color: #0087ff; text-decoration-color: #0087ff\">BatchNormalization</span>)            │                        │               │\n├─────────────────────────────────┼────────────────────────┼───────────────┤\n│ conv2d_2 (<span style=\"color: #0087ff; text-decoration-color: #0087ff\">Conv2D</span>)               │ (<span style=\"color: #00d7ff; text-decoration-color: #00d7ff\">None</span>, <span style=\"color: #00af00; text-decoration-color: #00af00\">50</span>, <span style=\"color: #00af00; text-decoration-color: #00af00\">50</span>, <span style=\"color: #00af00; text-decoration-color: #00af00\">32</span>)     │         <span style=\"color: #00af00; text-decoration-color: #00af00\">4,640</span> │\n├─────────────────────────────────┼────────────────────────┼───────────────┤\n│ conv2d_3 (<span style=\"color: #0087ff; text-decoration-color: #0087ff\">Conv2D</span>)               │ (<span style=\"color: #00d7ff; text-decoration-color: #00d7ff\">None</span>, <span style=\"color: #00af00; text-decoration-color: #00af00\">50</span>, <span style=\"color: #00af00; text-decoration-color: #00af00\">50</span>, <span style=\"color: #00af00; text-decoration-color: #00af00\">32</span>)     │         <span style=\"color: #00af00; text-decoration-color: #00af00\">9,248</span> │\n├─────────────────────────────────┼────────────────────────┼───────────────┤\n│ max_pooling2d_1 (<span style=\"color: #0087ff; text-decoration-color: #0087ff\">MaxPooling2D</span>)  │ (<span style=\"color: #00d7ff; text-decoration-color: #00d7ff\">None</span>, <span style=\"color: #00af00; text-decoration-color: #00af00\">25</span>, <span style=\"color: #00af00; text-decoration-color: #00af00\">25</span>, <span style=\"color: #00af00; text-decoration-color: #00af00\">32</span>)     │             <span style=\"color: #00af00; text-decoration-color: #00af00\">0</span> │\n├─────────────────────────────────┼────────────────────────┼───────────────┤\n│ dropout (<span style=\"color: #0087ff; text-decoration-color: #0087ff\">Dropout</span>)               │ (<span style=\"color: #00d7ff; text-decoration-color: #00d7ff\">None</span>, <span style=\"color: #00af00; text-decoration-color: #00af00\">25</span>, <span style=\"color: #00af00; text-decoration-color: #00af00\">25</span>, <span style=\"color: #00af00; text-decoration-color: #00af00\">32</span>)     │             <span style=\"color: #00af00; text-decoration-color: #00af00\">0</span> │\n├─────────────────────────────────┼────────────────────────┼───────────────┤\n│ conv2d_4 (<span style=\"color: #0087ff; text-decoration-color: #0087ff\">Conv2D</span>)               │ (<span style=\"color: #00d7ff; text-decoration-color: #00d7ff\">None</span>, <span style=\"color: #00af00; text-decoration-color: #00af00\">25</span>, <span style=\"color: #00af00; text-decoration-color: #00af00\">25</span>, <span style=\"color: #00af00; text-decoration-color: #00af00\">64</span>)     │        <span style=\"color: #00af00; text-decoration-color: #00af00\">18,496</span> │\n├─────────────────────────────────┼────────────────────────┼───────────────┤\n│ conv2d_5 (<span style=\"color: #0087ff; text-decoration-color: #0087ff\">Conv2D</span>)               │ (<span style=\"color: #00d7ff; text-decoration-color: #00d7ff\">None</span>, <span style=\"color: #00af00; text-decoration-color: #00af00\">25</span>, <span style=\"color: #00af00; text-decoration-color: #00af00\">25</span>, <span style=\"color: #00af00; text-decoration-color: #00af00\">64</span>)     │        <span style=\"color: #00af00; text-decoration-color: #00af00\">36,928</span> │\n├─────────────────────────────────┼────────────────────────┼───────────────┤\n│ max_pooling2d_2 (<span style=\"color: #0087ff; text-decoration-color: #0087ff\">MaxPooling2D</span>)  │ (<span style=\"color: #00d7ff; text-decoration-color: #00d7ff\">None</span>, <span style=\"color: #00af00; text-decoration-color: #00af00\">12</span>, <span style=\"color: #00af00; text-decoration-color: #00af00\">12</span>, <span style=\"color: #00af00; text-decoration-color: #00af00\">64</span>)     │             <span style=\"color: #00af00; text-decoration-color: #00af00\">0</span> │\n├─────────────────────────────────┼────────────────────────┼───────────────┤\n│ batch_normalization_1           │ (<span style=\"color: #00d7ff; text-decoration-color: #00d7ff\">None</span>, <span style=\"color: #00af00; text-decoration-color: #00af00\">12</span>, <span style=\"color: #00af00; text-decoration-color: #00af00\">12</span>, <span style=\"color: #00af00; text-decoration-color: #00af00\">64</span>)     │           <span style=\"color: #00af00; text-decoration-color: #00af00\">256</span> │\n│ (<span style=\"color: #0087ff; text-decoration-color: #0087ff\">BatchNormalization</span>)            │                        │               │\n├─────────────────────────────────┼────────────────────────┼───────────────┤\n│ flatten (<span style=\"color: #0087ff; text-decoration-color: #0087ff\">Flatten</span>)               │ (<span style=\"color: #00d7ff; text-decoration-color: #00d7ff\">None</span>, <span style=\"color: #00af00; text-decoration-color: #00af00\">9216</span>)           │             <span style=\"color: #00af00; text-decoration-color: #00af00\">0</span> │\n├─────────────────────────────────┼────────────────────────┼───────────────┤\n│ dense (<span style=\"color: #0087ff; text-decoration-color: #0087ff\">Dense</span>)                   │ (<span style=\"color: #00d7ff; text-decoration-color: #00d7ff\">None</span>, <span style=\"color: #00af00; text-decoration-color: #00af00\">256</span>)            │     <span style=\"color: #00af00; text-decoration-color: #00af00\">2,359,552</span> │\n├─────────────────────────────────┼────────────────────────┼───────────────┤\n│ batch_normalization_2           │ (<span style=\"color: #00d7ff; text-decoration-color: #00d7ff\">None</span>, <span style=\"color: #00af00; text-decoration-color: #00af00\">256</span>)            │         <span style=\"color: #00af00; text-decoration-color: #00af00\">1,024</span> │\n│ (<span style=\"color: #0087ff; text-decoration-color: #0087ff\">BatchNormalization</span>)            │                        │               │\n├─────────────────────────────────┼────────────────────────┼───────────────┤\n│ dense_1 (<span style=\"color: #0087ff; text-decoration-color: #0087ff\">Dense</span>)                 │ (<span style=\"color: #00d7ff; text-decoration-color: #00d7ff\">None</span>, <span style=\"color: #00af00; text-decoration-color: #00af00\">5005</span>)           │     <span style=\"color: #00af00; text-decoration-color: #00af00\">1,286,285</span> │\n└─────────────────────────────────┴────────────────────────┴───────────────┘\n</pre>\n"
          },
          "metadata": {}
        },
        {
          "output_type": "display_data",
          "data": {
            "text/plain": "\u001b[1m Total params: \u001b[0m\u001b[38;5;34m3,719,261\u001b[0m (14.19 MB)\n",
            "text/html": "<pre style=\"white-space:pre;overflow-x:auto;line-height:normal;font-family:Menlo,'DejaVu Sans Mono',consolas,'Courier New',monospace\"><span style=\"font-weight: bold\"> Total params: </span><span style=\"color: #00af00; text-decoration-color: #00af00\">3,719,261</span> (14.19 MB)\n</pre>\n"
          },
          "metadata": {}
        },
        {
          "output_type": "display_data",
          "data": {
            "text/plain": "\u001b[1m Trainable params: \u001b[0m\u001b[38;5;34m3,718,589\u001b[0m (14.19 MB)\n",
            "text/html": "<pre style=\"white-space:pre;overflow-x:auto;line-height:normal;font-family:Menlo,'DejaVu Sans Mono',consolas,'Courier New',monospace\"><span style=\"font-weight: bold\"> Trainable params: </span><span style=\"color: #00af00; text-decoration-color: #00af00\">3,718,589</span> (14.19 MB)\n</pre>\n"
          },
          "metadata": {}
        },
        {
          "output_type": "display_data",
          "data": {
            "text/plain": "\u001b[1m Non-trainable params: \u001b[0m\u001b[38;5;34m672\u001b[0m (2.62 KB)\n",
            "text/html": "<pre style=\"white-space:pre;overflow-x:auto;line-height:normal;font-family:Menlo,'DejaVu Sans Mono',consolas,'Courier New',monospace\"><span style=\"font-weight: bold\"> Non-trainable params: </span><span style=\"color: #00af00; text-decoration-color: #00af00\">672</span> (2.62 KB)\n</pre>\n"
          },
          "metadata": {}
        }
      ],
      "id": "0Vd_j_FB1m17"
    },
    {
      "cell_type": "code",
      "source": [
        "model.compile(optimizer = 'adam', loss = NGL(scaling=True), metrics=[\"accuracy\"])"
      ],
      "metadata": {
        "jupyter": {
          "is_executing": true
        },
        "execution": {
          "iopub.status.busy": "2024-04-25T22:38:07.472433Z",
          "iopub.execute_input": "2024-04-25T22:38:07.474361Z",
          "iopub.status.idle": "2024-04-25T22:38:07.486718Z",
          "shell.execute_reply.started": "2024-04-25T22:38:07.474336Z",
          "shell.execute_reply": "2024-04-25T22:38:07.485704Z"
        },
        "trusted": true,
        "id": "VBlvYqQD1m17"
      },
      "execution_count": null,
      "outputs": [],
      "id": "VBlvYqQD1m17"
    },
    {
      "cell_type": "code",
      "source": [
        "filename = 'supplementary.csv'\n",
        "csv_logger = CSVLogger(filename)\n",
        "reduce_lr = ReduceLROnPlateau(monitor='val_accuracy', factor=0.2, patience=5, min_lr=1e-4)\n",
        "\n",
        "history = model.fit(datagen.flow(x_train, y_train, batch_size=128),\n",
        "                              epochs=100, verbose = 1,\n",
        "                              validation_data=val_dataset,\n",
        "                              callbacks=[reduce_lr, csv_logger])"
      ],
      "metadata": {
        "jupyter": {
          "is_executing": true
        },
        "execution": {
          "iopub.status.busy": "2024-04-25T22:38:07.488037Z",
          "iopub.execute_input": "2024-04-25T22:38:07.488649Z",
          "iopub.status.idle": "2024-04-26T00:16:43.984675Z",
          "shell.execute_reply.started": "2024-04-25T22:38:07.488618Z",
          "shell.execute_reply": "2024-04-26T00:16:43.983731Z"
        },
        "trusted": true,
        "id": "KP0AExRD1m17",
        "outputId": "392bcb3b-1b05-4b34-9a48-c1c702e8781c"
      },
      "execution_count": null,
      "outputs": [
        {
          "name": "stdout",
          "text": "Epoch 1/100\n\u001b[1m  2/179\u001b[0m \u001b[37m━━━━━━━━━━━━━━━━━━━━\u001b[0m \u001b[1m14s\u001b[0m 85ms/step - accuracy: 0.0000e+00 - loss: 6.1153   ",
          "output_type": "stream"
        },
        {
          "name": "stderr",
          "text": "WARNING: All log messages before absl::InitializeLog() is called are written to STDERR\nI0000 00:00:1714084711.266869     113 device_compiler.h:186] Compiled cluster using XLA!  This line is logged at most once for the lifetime of the process.\nW0000 00:00:1714084711.292441     113 graph_launch.cc:671] Fallback to op-by-op mode because memset node breaks graph update\n",
          "output_type": "stream"
        },
        {
          "name": "stdout",
          "text": "\u001b[1m146/179\u001b[0m \u001b[32m━━━━━━━━━━━━━━━━\u001b[0m\u001b[37m━━━━\u001b[0m \u001b[1m12s\u001b[0m 380ms/step - accuracy: 4.4255e-04 - loss: 6.1153",
          "output_type": "stream"
        },
        {
          "name": "stderr",
          "text": "W0000 00:00:1714084766.323226     111 graph_launch.cc:671] Fallback to op-by-op mode because memset node breaks graph update\n",
          "output_type": "stream"
        },
        {
          "name": "stdout",
          "text": "\u001b[1m179/179\u001b[0m \u001b[32m━━━━━━━━━━━━━━━━━━━━\u001b[0m\u001b[37m\u001b[0m \u001b[1m93s\u001b[0m 397ms/step - accuracy: 8.9757e-04 - loss: 6.1153 - val_accuracy: 0.0000e+00 - val_loss: 6.1152 - learning_rate: 0.0010\nEpoch 2/100\n\u001b[1m179/179\u001b[0m \u001b[32m━━━━━━━━━━━━━━━━━━━━\u001b[0m\u001b[37m\u001b[0m \u001b[1m58s\u001b[0m 313ms/step - accuracy: 0.0513 - loss: 6.1153 - val_accuracy: 0.0000e+00 - val_loss: 6.1152 - learning_rate: 0.0010\nEpoch 3/100\n\u001b[1m179/179\u001b[0m \u001b[32m━━━━━━━━━━━━━━━━━━━━\u001b[0m\u001b[37m\u001b[0m \u001b[1m59s\u001b[0m 315ms/step - accuracy: 0.1747 - loss: 6.1153 - val_accuracy: 0.2814 - val_loss: 6.1152 - learning_rate: 0.0010\nEpoch 4/100\n\u001b[1m179/179\u001b[0m \u001b[32m━━━━━━━━━━━━━━━━━━━━\u001b[0m\u001b[37m\u001b[0m \u001b[1m59s\u001b[0m 316ms/step - accuracy: 0.2645 - loss: 6.1153 - val_accuracy: 3.9417e-04 - val_loss: 6.1152 - learning_rate: 0.0010\nEpoch 5/100\n\u001b[1m179/179\u001b[0m \u001b[32m━━━━━━━━━━━━━━━━━━━━\u001b[0m\u001b[37m\u001b[0m \u001b[1m59s\u001b[0m 318ms/step - accuracy: 0.2843 - loss: 6.1153 - val_accuracy: 7.8833e-04 - val_loss: 6.1152 - learning_rate: 0.0010\nEpoch 6/100\n\u001b[1m179/179\u001b[0m \u001b[32m━━━━━━━━━━━━━━━━━━━━\u001b[0m\u001b[37m\u001b[0m \u001b[1m59s\u001b[0m 317ms/step - accuracy: 0.2917 - loss: 6.1153 - val_accuracy: 0.2818 - val_loss: 6.1152 - learning_rate: 0.0010\nEpoch 7/100\n\u001b[1m179/179\u001b[0m \u001b[32m━━━━━━━━━━━━━━━━━━━━\u001b[0m\u001b[37m\u001b[0m \u001b[1m58s\u001b[0m 314ms/step - accuracy: 0.2891 - loss: 6.1153 - val_accuracy: 0.0280 - val_loss: 6.1152 - learning_rate: 0.0010\nEpoch 8/100\n\u001b[1m179/179\u001b[0m \u001b[32m━━━━━━━━━━━━━━━━━━━━\u001b[0m\u001b[37m\u001b[0m \u001b[1m58s\u001b[0m 311ms/step - accuracy: 0.2954 - loss: 6.1153 - val_accuracy: 0.3295 - val_loss: 6.1152 - learning_rate: 0.0010\nEpoch 9/100\n\u001b[1m179/179\u001b[0m \u001b[32m━━━━━━━━━━━━━━━━━━━━\u001b[0m\u001b[37m\u001b[0m \u001b[1m58s\u001b[0m 313ms/step - accuracy: 0.3061 - loss: 6.1153 - val_accuracy: 0.3307 - val_loss: 6.1152 - learning_rate: 0.0010\nEpoch 10/100\n\u001b[1m179/179\u001b[0m \u001b[32m━━━━━━━━━━━━━━━━━━━━\u001b[0m\u001b[37m\u001b[0m \u001b[1m59s\u001b[0m 319ms/step - accuracy: 0.3130 - loss: 6.1153 - val_accuracy: 0.2854 - val_loss: 6.1152 - learning_rate: 0.0010\nEpoch 11/100\n\u001b[1m179/179\u001b[0m \u001b[32m━━━━━━━━━━━━━━━━━━━━\u001b[0m\u001b[37m\u001b[0m \u001b[1m59s\u001b[0m 316ms/step - accuracy: 0.3229 - loss: 6.1153 - val_accuracy: 0.1604 - val_loss: 6.1152 - learning_rate: 0.0010\nEpoch 12/100\n\u001b[1m179/179\u001b[0m \u001b[32m━━━━━━━━━━━━━━━━━━━━\u001b[0m\u001b[37m\u001b[0m \u001b[1m59s\u001b[0m 318ms/step - accuracy: 0.3265 - loss: 6.1153 - val_accuracy: 0.3276 - val_loss: 6.1152 - learning_rate: 0.0010\nEpoch 13/100\n\u001b[1m179/179\u001b[0m \u001b[32m━━━━━━━━━━━━━━━━━━━━\u001b[0m\u001b[37m\u001b[0m \u001b[1m59s\u001b[0m 319ms/step - accuracy: 0.3209 - loss: 6.1153 - val_accuracy: 0.3343 - val_loss: 6.1152 - learning_rate: 0.0010\nEpoch 14/100\n\u001b[1m179/179\u001b[0m \u001b[32m━━━━━━━━━━━━━━━━━━━━\u001b[0m\u001b[37m\u001b[0m \u001b[1m59s\u001b[0m 318ms/step - accuracy: 0.3265 - loss: 6.1153 - val_accuracy: 0.3737 - val_loss: 6.1152 - learning_rate: 0.0010\nEpoch 15/100\n\u001b[1m179/179\u001b[0m \u001b[32m━━━━━━━━━━━━━━━━━━━━\u001b[0m\u001b[37m\u001b[0m \u001b[1m59s\u001b[0m 319ms/step - accuracy: 0.3320 - loss: 6.1153 - val_accuracy: 0.3701 - val_loss: 6.1152 - learning_rate: 0.0010\nEpoch 16/100\n\u001b[1m179/179\u001b[0m \u001b[32m━━━━━━━━━━━━━━━━━━━━\u001b[0m\u001b[37m\u001b[0m \u001b[1m59s\u001b[0m 317ms/step - accuracy: 0.3411 - loss: 6.1153 - val_accuracy: 0.3567 - val_loss: 6.1152 - learning_rate: 0.0010\nEpoch 17/100\n\u001b[1m179/179\u001b[0m \u001b[32m━━━━━━━━━━━━━━━━━━━━\u001b[0m\u001b[37m\u001b[0m \u001b[1m82s\u001b[0m 317ms/step - accuracy: 0.3438 - loss: 6.1153 - val_accuracy: 0.3823 - val_loss: 6.1152 - learning_rate: 0.0010\nEpoch 18/100\n\u001b[1m179/179\u001b[0m \u001b[32m━━━━━━━━━━━━━━━━━━━━\u001b[0m\u001b[37m\u001b[0m \u001b[1m59s\u001b[0m 319ms/step - accuracy: 0.3541 - loss: 6.1153 - val_accuracy: 0.3587 - val_loss: 6.1152 - learning_rate: 0.0010\nEpoch 19/100\n\u001b[1m179/179\u001b[0m \u001b[32m━━━━━━━━━━━━━━━━━━━━\u001b[0m\u001b[37m\u001b[0m \u001b[1m59s\u001b[0m 317ms/step - accuracy: 0.3594 - loss: 6.1153 - val_accuracy: 0.3559 - val_loss: 6.1152 - learning_rate: 0.0010\nEpoch 20/100\n\u001b[1m179/179\u001b[0m \u001b[32m━━━━━━━━━━━━━━━━━━━━\u001b[0m\u001b[37m\u001b[0m \u001b[1m59s\u001b[0m 318ms/step - accuracy: 0.3539 - loss: 6.1153 - val_accuracy: 0.3595 - val_loss: 6.1152 - learning_rate: 0.0010\nEpoch 21/100\n\u001b[1m179/179\u001b[0m \u001b[32m━━━━━━━━━━━━━━━━━━━━\u001b[0m\u001b[37m\u001b[0m \u001b[1m60s\u001b[0m 322ms/step - accuracy: 0.3504 - loss: 6.1153 - val_accuracy: 0.3492 - val_loss: 6.1152 - learning_rate: 0.0010\nEpoch 22/100\n\u001b[1m179/179\u001b[0m \u001b[32m━━━━━━━━━━━━━━━━━━━━\u001b[0m\u001b[37m\u001b[0m \u001b[1m60s\u001b[0m 322ms/step - accuracy: 0.3494 - loss: 6.1153 - val_accuracy: 0.3504 - val_loss: 6.1152 - learning_rate: 0.0010\nEpoch 23/100\n\u001b[1m179/179\u001b[0m \u001b[32m━━━━━━━━━━━━━━━━━━━━\u001b[0m\u001b[37m\u001b[0m \u001b[1m59s\u001b[0m 318ms/step - accuracy: 0.3622 - loss: 6.1153 - val_accuracy: 0.3717 - val_loss: 6.1152 - learning_rate: 2.0000e-04\nEpoch 24/100\n\u001b[1m179/179\u001b[0m \u001b[32m━━━━━━━━━━━━━━━━━━━━\u001b[0m\u001b[37m\u001b[0m \u001b[1m59s\u001b[0m 318ms/step - accuracy: 0.3493 - loss: 6.1153 - val_accuracy: 0.3697 - val_loss: 6.1152 - learning_rate: 2.0000e-04\nEpoch 25/100\n\u001b[1m179/179\u001b[0m \u001b[32m━━━━━━━━━━━━━━━━━━━━\u001b[0m\u001b[37m\u001b[0m \u001b[1m59s\u001b[0m 319ms/step - accuracy: 0.3521 - loss: 6.1153 - val_accuracy: 0.3721 - val_loss: 6.1152 - learning_rate: 2.0000e-04\nEpoch 26/100\n\u001b[1m179/179\u001b[0m \u001b[32m━━━━━━━━━━━━━━━━━━━━\u001b[0m\u001b[37m\u001b[0m \u001b[1m59s\u001b[0m 317ms/step - accuracy: 0.3529 - loss: 6.1153 - val_accuracy: 0.3685 - val_loss: 6.1152 - learning_rate: 2.0000e-04\nEpoch 27/100\n\u001b[1m179/179\u001b[0m \u001b[32m━━━━━━━━━━━━━━━━━━━━\u001b[0m\u001b[37m\u001b[0m \u001b[1m59s\u001b[0m 317ms/step - accuracy: 0.3530 - loss: 6.1153 - val_accuracy: 0.3611 - val_loss: 6.1152 - learning_rate: 2.0000e-04\nEpoch 28/100\n\u001b[1m179/179\u001b[0m \u001b[32m━━━━━━━━━━━━━━━━━━━━\u001b[0m\u001b[37m\u001b[0m \u001b[1m59s\u001b[0m 317ms/step - accuracy: 0.3558 - loss: 6.1153 - val_accuracy: 0.3670 - val_loss: 6.1152 - learning_rate: 1.0000e-04\nEpoch 29/100\n\u001b[1m179/179\u001b[0m \u001b[32m━━━━━━━━━━━━━━━━━━━━\u001b[0m\u001b[37m\u001b[0m \u001b[1m59s\u001b[0m 318ms/step - accuracy: 0.3470 - loss: 6.1153 - val_accuracy: 0.3646 - val_loss: 6.1152 - learning_rate: 1.0000e-04\nEpoch 30/100\n\u001b[1m179/179\u001b[0m \u001b[32m━━━━━━━━━━━━━━━━━━━━\u001b[0m\u001b[37m\u001b[0m \u001b[1m59s\u001b[0m 317ms/step - accuracy: 0.3494 - loss: 6.1153 - val_accuracy: 0.3615 - val_loss: 6.1152 - learning_rate: 1.0000e-04\nEpoch 31/100\n\u001b[1m179/179\u001b[0m \u001b[32m━━━━━━━━━━━━━━━━━━━━\u001b[0m\u001b[37m\u001b[0m \u001b[1m60s\u001b[0m 320ms/step - accuracy: 0.3549 - loss: 6.1153 - val_accuracy: 0.3674 - val_loss: 6.1152 - learning_rate: 1.0000e-04\nEpoch 32/100\n\u001b[1m179/179\u001b[0m \u001b[32m━━━━━━━━━━━━━━━━━━━━\u001b[0m\u001b[37m\u001b[0m \u001b[1m59s\u001b[0m 318ms/step - accuracy: 0.3586 - loss: 6.1153 - val_accuracy: 0.3634 - val_loss: 6.1152 - learning_rate: 1.0000e-04\nEpoch 33/100\n\u001b[1m179/179\u001b[0m \u001b[32m━━━━━━━━━━━━━━━━━━━━\u001b[0m\u001b[37m\u001b[0m \u001b[1m59s\u001b[0m 316ms/step - accuracy: 0.3577 - loss: 6.1153 - val_accuracy: 0.3662 - val_loss: 6.1152 - learning_rate: 1.0000e-04\nEpoch 34/100\n\u001b[1m179/179\u001b[0m \u001b[32m━━━━━━━━━━━━━━━━━━━━\u001b[0m\u001b[37m\u001b[0m \u001b[1m59s\u001b[0m 316ms/step - accuracy: 0.3505 - loss: 6.1153 - val_accuracy: 0.3646 - val_loss: 6.1152 - learning_rate: 1.0000e-04\nEpoch 35/100\n\u001b[1m179/179\u001b[0m \u001b[32m━━━━━━━━━━━━━━━━━━━━\u001b[0m\u001b[37m\u001b[0m \u001b[1m59s\u001b[0m 316ms/step - accuracy: 0.3574 - loss: 6.1153 - val_accuracy: 0.3618 - val_loss: 6.1152 - learning_rate: 1.0000e-04\nEpoch 36/100\n\u001b[1m179/179\u001b[0m \u001b[32m━━━━━━━━━━━━━━━━━━━━\u001b[0m\u001b[37m\u001b[0m \u001b[1m59s\u001b[0m 317ms/step - accuracy: 0.3481 - loss: 6.1153 - val_accuracy: 0.3591 - val_loss: 6.1152 - learning_rate: 1.0000e-04\nEpoch 37/100\n\u001b[1m179/179\u001b[0m \u001b[32m━━━━━━━━━━━━━━━━━━━━\u001b[0m\u001b[37m\u001b[0m \u001b[1m59s\u001b[0m 319ms/step - accuracy: 0.3559 - loss: 6.1153 - val_accuracy: 0.3658 - val_loss: 6.1152 - learning_rate: 1.0000e-04\nEpoch 38/100\n\u001b[1m179/179\u001b[0m \u001b[32m━━━━━━━━━━━━━━━━━━━━\u001b[0m\u001b[37m\u001b[0m \u001b[1m59s\u001b[0m 318ms/step - accuracy: 0.3543 - loss: 6.1153 - val_accuracy: 0.3709 - val_loss: 6.1152 - learning_rate: 1.0000e-04\nEpoch 39/100\n\u001b[1m179/179\u001b[0m \u001b[32m━━━━━━━━━━━━━━━━━━━━\u001b[0m\u001b[37m\u001b[0m \u001b[1m59s\u001b[0m 316ms/step - accuracy: 0.3539 - loss: 6.1153 - val_accuracy: 0.3528 - val_loss: 6.1152 - learning_rate: 1.0000e-04\nEpoch 40/100\n\u001b[1m179/179\u001b[0m \u001b[32m━━━━━━━━━━━━━━━━━━━━\u001b[0m\u001b[37m\u001b[0m \u001b[1m59s\u001b[0m 317ms/step - accuracy: 0.3558 - loss: 6.1153 - val_accuracy: 0.3685 - val_loss: 6.1152 - learning_rate: 1.0000e-04\nEpoch 41/100\n\u001b[1m179/179\u001b[0m \u001b[32m━━━━━━━━━━━━━━━━━━━━\u001b[0m\u001b[37m\u001b[0m \u001b[1m59s\u001b[0m 316ms/step - accuracy: 0.3575 - loss: 6.1153 - val_accuracy: 0.3654 - val_loss: 6.1152 - learning_rate: 1.0000e-04\nEpoch 42/100\n\u001b[1m179/179\u001b[0m \u001b[32m━━━━━━━━━━━━━━━━━━━━\u001b[0m\u001b[37m\u001b[0m \u001b[1m59s\u001b[0m 318ms/step - accuracy: 0.3559 - loss: 6.1153 - val_accuracy: 0.3674 - val_loss: 6.1152 - learning_rate: 1.0000e-04\nEpoch 43/100\n\u001b[1m179/179\u001b[0m \u001b[32m━━━━━━━━━━━━━━━━━━━━\u001b[0m\u001b[37m\u001b[0m \u001b[1m58s\u001b[0m 313ms/step - accuracy: 0.3576 - loss: 6.1153 - val_accuracy: 0.3618 - val_loss: 6.1152 - learning_rate: 1.0000e-04\nEpoch 44/100\n\u001b[1m179/179\u001b[0m \u001b[32m━━━━━━━━━━━━━━━━━━━━\u001b[0m\u001b[37m\u001b[0m \u001b[1m58s\u001b[0m 314ms/step - accuracy: 0.3564 - loss: 6.1153 - val_accuracy: 0.3646 - val_loss: 6.1152 - learning_rate: 1.0000e-04\nEpoch 45/100\n\u001b[1m179/179\u001b[0m \u001b[32m━━━━━━━━━━━━━━━━━━━━\u001b[0m\u001b[37m\u001b[0m \u001b[1m58s\u001b[0m 314ms/step - accuracy: 0.3623 - loss: 6.1153 - val_accuracy: 0.3634 - val_loss: 6.1152 - learning_rate: 1.0000e-04\nEpoch 46/100\n\u001b[1m179/179\u001b[0m \u001b[32m━━━━━━━━━━━━━━━━━━━━\u001b[0m\u001b[37m\u001b[0m \u001b[1m59s\u001b[0m 315ms/step - accuracy: 0.3546 - loss: 6.1153 - val_accuracy: 0.3729 - val_loss: 6.1152 - learning_rate: 1.0000e-04\nEpoch 47/100\n\u001b[1m179/179\u001b[0m \u001b[32m━━━━━━━━━━━━━━━━━━━━\u001b[0m\u001b[37m\u001b[0m \u001b[1m59s\u001b[0m 315ms/step - accuracy: 0.3553 - loss: 6.1153 - val_accuracy: 0.3682 - val_loss: 6.1152 - learning_rate: 1.0000e-04\nEpoch 48/100\n\u001b[1m179/179\u001b[0m \u001b[32m━━━━━━━━━━━━━━━━━━━━\u001b[0m\u001b[37m\u001b[0m \u001b[1m58s\u001b[0m 314ms/step - accuracy: 0.3604 - loss: 6.1153 - val_accuracy: 0.3685 - val_loss: 6.1152 - learning_rate: 1.0000e-04\nEpoch 49/100\n\u001b[1m179/179\u001b[0m \u001b[32m━━━━━━━━━━━━━━━━━━━━\u001b[0m\u001b[37m\u001b[0m \u001b[1m58s\u001b[0m 314ms/step - accuracy: 0.3589 - loss: 6.1153 - val_accuracy: 0.3709 - val_loss: 6.1152 - learning_rate: 1.0000e-04\nEpoch 50/100\n\u001b[1m179/179\u001b[0m \u001b[32m━━━━━━━━━━━━━━━━━━━━\u001b[0m\u001b[37m\u001b[0m \u001b[1m58s\u001b[0m 315ms/step - accuracy: 0.3588 - loss: 6.1153 - val_accuracy: 0.3682 - val_loss: 6.1152 - learning_rate: 1.0000e-04\nEpoch 51/100\n\u001b[1m179/179\u001b[0m \u001b[32m━━━━━━━━━━━━━━━━━━━━\u001b[0m\u001b[37m\u001b[0m \u001b[1m58s\u001b[0m 313ms/step - accuracy: 0.3507 - loss: 6.1153 - val_accuracy: 0.3670 - val_loss: 6.1152 - learning_rate: 1.0000e-04\nEpoch 52/100\n\u001b[1m179/179\u001b[0m \u001b[32m━━━━━━━━━━━━━━━━━━━━\u001b[0m\u001b[37m\u001b[0m \u001b[1m59s\u001b[0m 316ms/step - accuracy: 0.3589 - loss: 6.1153 - val_accuracy: 0.3559 - val_loss: 6.1152 - learning_rate: 1.0000e-04\nEpoch 53/100\n\u001b[1m179/179\u001b[0m \u001b[32m━━━━━━━━━━━━━━━━━━━━\u001b[0m\u001b[37m\u001b[0m \u001b[1m58s\u001b[0m 313ms/step - accuracy: 0.3571 - loss: 6.1153 - val_accuracy: 0.3615 - val_loss: 6.1152 - learning_rate: 1.0000e-04\nEpoch 54/100\n\u001b[1m179/179\u001b[0m \u001b[32m━━━━━━━━━━━━━━━━━━━━\u001b[0m\u001b[37m\u001b[0m \u001b[1m58s\u001b[0m 314ms/step - accuracy: 0.3606 - loss: 6.1153 - val_accuracy: 0.3725 - val_loss: 6.1152 - learning_rate: 1.0000e-04\nEpoch 55/100\n\u001b[1m179/179\u001b[0m \u001b[32m━━━━━━━━━━━━━━━━━━━━\u001b[0m\u001b[37m\u001b[0m \u001b[1m58s\u001b[0m 314ms/step - accuracy: 0.3648 - loss: 6.1153 - val_accuracy: 0.3670 - val_loss: 6.1152 - learning_rate: 1.0000e-04\nEpoch 56/100\n\u001b[1m179/179\u001b[0m \u001b[32m━━━━━━━━━━━━━━━━━━━━\u001b[0m\u001b[37m\u001b[0m \u001b[1m58s\u001b[0m 315ms/step - accuracy: 0.3580 - loss: 6.1153 - val_accuracy: 0.3654 - val_loss: 6.1152 - learning_rate: 1.0000e-04\nEpoch 57/100\n\u001b[1m179/179\u001b[0m \u001b[32m━━━━━━━━━━━━━━━━━━━━\u001b[0m\u001b[37m\u001b[0m \u001b[1m58s\u001b[0m 314ms/step - accuracy: 0.3557 - loss: 6.1153 - val_accuracy: 0.3678 - val_loss: 6.1152 - learning_rate: 1.0000e-04\nEpoch 58/100\n\u001b[1m179/179\u001b[0m \u001b[32m━━━━━━━━━━━━━━━━━━━━\u001b[0m\u001b[37m\u001b[0m \u001b[1m59s\u001b[0m 315ms/step - accuracy: 0.3622 - loss: 6.1153 - val_accuracy: 0.3674 - val_loss: 6.1152 - learning_rate: 1.0000e-04\nEpoch 59/100\n\u001b[1m179/179\u001b[0m \u001b[32m━━━━━━━━━━━━━━━━━━━━\u001b[0m\u001b[37m\u001b[0m \u001b[1m59s\u001b[0m 316ms/step - accuracy: 0.3589 - loss: 6.1153 - val_accuracy: 0.3709 - val_loss: 6.1152 - learning_rate: 1.0000e-04\nEpoch 60/100\n\u001b[1m179/179\u001b[0m \u001b[32m━━━━━━━━━━━━━━━━━━━━\u001b[0m\u001b[37m\u001b[0m \u001b[1m59s\u001b[0m 314ms/step - accuracy: 0.3615 - loss: 6.1153 - val_accuracy: 0.3705 - val_loss: 6.1152 - learning_rate: 1.0000e-04\nEpoch 61/100\n\u001b[1m179/179\u001b[0m \u001b[32m━━━━━━━━━━━━━━━━━━━━\u001b[0m\u001b[37m\u001b[0m \u001b[1m58s\u001b[0m 313ms/step - accuracy: 0.3573 - loss: 6.1153 - val_accuracy: 0.3678 - val_loss: 6.1152 - learning_rate: 1.0000e-04\nEpoch 62/100\n\u001b[1m179/179\u001b[0m \u001b[32m━━━━━━━━━━━━━━━━━━━━\u001b[0m\u001b[37m\u001b[0m \u001b[1m58s\u001b[0m 314ms/step - accuracy: 0.3597 - loss: 6.1153 - val_accuracy: 0.3729 - val_loss: 6.1152 - learning_rate: 1.0000e-04\nEpoch 63/100\n\u001b[1m179/179\u001b[0m \u001b[32m━━━━━━━━━━━━━━━━━━━━\u001b[0m\u001b[37m\u001b[0m \u001b[1m59s\u001b[0m 316ms/step - accuracy: 0.3659 - loss: 6.1153 - val_accuracy: 0.3622 - val_loss: 6.1152 - learning_rate: 1.0000e-04\nEpoch 64/100\n\u001b[1m179/179\u001b[0m \u001b[32m━━━━━━━━━━━━━━━━━━━━\u001b[0m\u001b[37m\u001b[0m \u001b[1m59s\u001b[0m 317ms/step - accuracy: 0.3550 - loss: 6.1153 - val_accuracy: 0.3721 - val_loss: 6.1152 - learning_rate: 1.0000e-04\nEpoch 65/100\n\u001b[1m179/179\u001b[0m \u001b[32m━━━━━━━━━━━━━━━━━━━━\u001b[0m\u001b[37m\u001b[0m \u001b[1m59s\u001b[0m 319ms/step - accuracy: 0.3675 - loss: 6.1153 - val_accuracy: 0.3756 - val_loss: 6.1152 - learning_rate: 1.0000e-04\nEpoch 66/100\n\u001b[1m179/179\u001b[0m \u001b[32m━━━━━━━━━━━━━━━━━━━━\u001b[0m\u001b[37m\u001b[0m \u001b[1m59s\u001b[0m 315ms/step - accuracy: 0.3626 - loss: 6.1153 - val_accuracy: 0.3752 - val_loss: 6.1152 - learning_rate: 1.0000e-04\nEpoch 67/100\n\u001b[1m179/179\u001b[0m \u001b[32m━━━━━━━━━━━━━━━━━━━━\u001b[0m\u001b[37m\u001b[0m \u001b[1m58s\u001b[0m 312ms/step - accuracy: 0.3611 - loss: 6.1153 - val_accuracy: 0.3800 - val_loss: 6.1152 - learning_rate: 1.0000e-04\nEpoch 68/100\n\u001b[1m179/179\u001b[0m \u001b[32m━━━━━━━━━━━━━━━━━━━━\u001b[0m\u001b[37m\u001b[0m \u001b[1m59s\u001b[0m 315ms/step - accuracy: 0.3597 - loss: 6.1153 - val_accuracy: 0.3697 - val_loss: 6.1152 - learning_rate: 1.0000e-04\nEpoch 69/100\n\u001b[1m179/179\u001b[0m \u001b[32m━━━━━━━━━━━━━━━━━━━━\u001b[0m\u001b[37m\u001b[0m \u001b[1m58s\u001b[0m 313ms/step - accuracy: 0.3614 - loss: 6.1153 - val_accuracy: 0.3768 - val_loss: 6.1152 - learning_rate: 1.0000e-04\nEpoch 70/100\n\u001b[1m179/179\u001b[0m \u001b[32m━━━━━━━━━━━━━━━━━━━━\u001b[0m\u001b[37m\u001b[0m \u001b[1m58s\u001b[0m 312ms/step - accuracy: 0.3619 - loss: 6.1153 - val_accuracy: 0.3697 - val_loss: 6.1152 - learning_rate: 1.0000e-04\nEpoch 71/100\n\u001b[1m179/179\u001b[0m \u001b[32m━━━━━━━━━━━━━━━━━━━━\u001b[0m\u001b[37m\u001b[0m \u001b[1m58s\u001b[0m 315ms/step - accuracy: 0.3600 - loss: 6.1153 - val_accuracy: 0.3733 - val_loss: 6.1152 - learning_rate: 1.0000e-04\nEpoch 72/100\n\u001b[1m179/179\u001b[0m \u001b[32m━━━━━━━━━━━━━━━━━━━━\u001b[0m\u001b[37m\u001b[0m \u001b[1m58s\u001b[0m 310ms/step - accuracy: 0.3553 - loss: 6.1153 - val_accuracy: 0.3685 - val_loss: 6.1152 - learning_rate: 1.0000e-04\nEpoch 73/100\n\u001b[1m179/179\u001b[0m \u001b[32m━━━━━━━━━━━━━━━━━━━━\u001b[0m\u001b[37m\u001b[0m \u001b[1m58s\u001b[0m 313ms/step - accuracy: 0.3608 - loss: 6.1153 - val_accuracy: 0.3760 - val_loss: 6.1152 - learning_rate: 1.0000e-04\nEpoch 74/100\n\u001b[1m179/179\u001b[0m \u001b[32m━━━━━━━━━━━━━━━━━━━━\u001b[0m\u001b[37m\u001b[0m \u001b[1m58s\u001b[0m 311ms/step - accuracy: 0.3549 - loss: 6.1153 - val_accuracy: 0.3804 - val_loss: 6.1152 - learning_rate: 1.0000e-04\nEpoch 75/100\n\u001b[1m179/179\u001b[0m \u001b[32m━━━━━━━━━━━━━━━━━━━━\u001b[0m\u001b[37m\u001b[0m \u001b[1m58s\u001b[0m 311ms/step - accuracy: 0.3597 - loss: 6.1153 - val_accuracy: 0.3682 - val_loss: 6.1152 - learning_rate: 1.0000e-04\nEpoch 76/100\n\u001b[1m179/179\u001b[0m \u001b[32m━━━━━━━━━━━━━━━━━━━━\u001b[0m\u001b[37m\u001b[0m \u001b[1m57s\u001b[0m 309ms/step - accuracy: 0.3572 - loss: 6.1153 - val_accuracy: 0.3622 - val_loss: 6.1152 - learning_rate: 1.0000e-04\nEpoch 77/100\n\u001b[1m179/179\u001b[0m \u001b[32m━━━━━━━━━━━━━━━━━━━━\u001b[0m\u001b[37m\u001b[0m \u001b[1m57s\u001b[0m 309ms/step - accuracy: 0.3616 - loss: 6.1153 - val_accuracy: 0.3689 - val_loss: 6.1152 - learning_rate: 1.0000e-04\nEpoch 78/100\n\u001b[1m179/179\u001b[0m \u001b[32m━━━━━━━━━━━━━━━━━━━━\u001b[0m\u001b[37m\u001b[0m \u001b[1m58s\u001b[0m 310ms/step - accuracy: 0.3690 - loss: 6.1153 - val_accuracy: 0.3768 - val_loss: 6.1152 - learning_rate: 1.0000e-04\nEpoch 79/100\n\u001b[1m179/179\u001b[0m \u001b[32m━━━━━━━━━━━━━━━━━━━━\u001b[0m\u001b[37m\u001b[0m \u001b[1m57s\u001b[0m 310ms/step - accuracy: 0.3626 - loss: 6.1153 - val_accuracy: 0.3689 - val_loss: 6.1152 - learning_rate: 1.0000e-04\nEpoch 80/100\n\u001b[1m179/179\u001b[0m \u001b[32m━━━━━━━━━━━━━━━━━━━━\u001b[0m\u001b[37m\u001b[0m \u001b[1m62s\u001b[0m 334ms/step - accuracy: 0.3627 - loss: 6.1153 - val_accuracy: 0.3697 - val_loss: 6.1152 - learning_rate: 1.0000e-04\nEpoch 81/100\n\u001b[1m179/179\u001b[0m \u001b[32m━━━━━━━━━━━━━━━━━━━━\u001b[0m\u001b[37m\u001b[0m \u001b[1m58s\u001b[0m 313ms/step - accuracy: 0.3614 - loss: 6.1153 - val_accuracy: 0.3737 - val_loss: 6.1152 - learning_rate: 1.0000e-04\nEpoch 82/100\n\u001b[1m179/179\u001b[0m \u001b[32m━━━━━━━━━━━━━━━━━━━━\u001b[0m\u001b[37m\u001b[0m \u001b[1m58s\u001b[0m 313ms/step - accuracy: 0.3572 - loss: 6.1153 - val_accuracy: 0.3772 - val_loss: 6.1152 - learning_rate: 1.0000e-04\nEpoch 83/100\n\u001b[1m179/179\u001b[0m \u001b[32m━━━━━━━━━━━━━━━━━━━━\u001b[0m\u001b[37m\u001b[0m \u001b[1m59s\u001b[0m 314ms/step - accuracy: 0.3629 - loss: 6.1153 - val_accuracy: 0.3713 - val_loss: 6.1152 - learning_rate: 1.0000e-04\nEpoch 84/100\n\u001b[1m179/179\u001b[0m \u001b[32m━━━━━━━━━━━━━━━━━━━━\u001b[0m\u001b[37m\u001b[0m \u001b[1m58s\u001b[0m 314ms/step - accuracy: 0.3618 - loss: 6.1153 - val_accuracy: 0.3733 - val_loss: 6.1152 - learning_rate: 1.0000e-04\nEpoch 85/100\n\u001b[1m179/179\u001b[0m \u001b[32m━━━━━━━━━━━━━━━━━━━━\u001b[0m\u001b[37m\u001b[0m \u001b[1m58s\u001b[0m 313ms/step - accuracy: 0.3629 - loss: 6.1153 - val_accuracy: 0.3646 - val_loss: 6.1152 - learning_rate: 1.0000e-04\nEpoch 86/100\n\u001b[1m179/179\u001b[0m \u001b[32m━━━━━━━━━━━━━━━━━━━━\u001b[0m\u001b[37m\u001b[0m \u001b[1m59s\u001b[0m 315ms/step - accuracy: 0.3643 - loss: 6.1153 - val_accuracy: 0.3717 - val_loss: 6.1152 - learning_rate: 1.0000e-04\nEpoch 87/100\n\u001b[1m179/179\u001b[0m \u001b[32m━━━━━━━━━━━━━━━━━━━━\u001b[0m\u001b[37m\u001b[0m \u001b[1m58s\u001b[0m 313ms/step - accuracy: 0.3613 - loss: 6.1153 - val_accuracy: 0.3756 - val_loss: 6.1152 - learning_rate: 1.0000e-04\nEpoch 88/100\n\u001b[1m179/179\u001b[0m \u001b[32m━━━━━━━━━━━━━━━━━━━━\u001b[0m\u001b[37m\u001b[0m \u001b[1m58s\u001b[0m 313ms/step - accuracy: 0.3627 - loss: 6.1153 - val_accuracy: 0.3776 - val_loss: 6.1152 - learning_rate: 1.0000e-04\nEpoch 89/100\n\u001b[1m179/179\u001b[0m \u001b[32m━━━━━━━━━━━━━━━━━━━━\u001b[0m\u001b[37m\u001b[0m \u001b[1m58s\u001b[0m 313ms/step - accuracy: 0.3660 - loss: 6.1153 - val_accuracy: 0.3831 - val_loss: 6.1152 - learning_rate: 1.0000e-04\nEpoch 90/100\n\u001b[1m179/179\u001b[0m \u001b[32m━━━━━━━━━━━━━━━━━━━━\u001b[0m\u001b[37m\u001b[0m \u001b[1m58s\u001b[0m 309ms/step - accuracy: 0.3628 - loss: 6.1153 - val_accuracy: 0.3776 - val_loss: 6.1152 - learning_rate: 1.0000e-04\nEpoch 91/100\n\u001b[1m179/179\u001b[0m \u001b[32m━━━━━━━━━━━━━━━━━━━━\u001b[0m\u001b[37m\u001b[0m \u001b[1m58s\u001b[0m 312ms/step - accuracy: 0.3634 - loss: 6.1153 - val_accuracy: 0.3693 - val_loss: 6.1152 - learning_rate: 1.0000e-04\nEpoch 92/100\n\u001b[1m179/179\u001b[0m \u001b[32m━━━━━━━━━━━━━━━━━━━━\u001b[0m\u001b[37m\u001b[0m \u001b[1m58s\u001b[0m 311ms/step - accuracy: 0.3672 - loss: 6.1153 - val_accuracy: 0.3796 - val_loss: 6.1152 - learning_rate: 1.0000e-04\nEpoch 93/100\n\u001b[1m179/179\u001b[0m \u001b[32m━━━━━━━━━━━━━━━━━━━━\u001b[0m\u001b[37m\u001b[0m \u001b[1m58s\u001b[0m 314ms/step - accuracy: 0.3669 - loss: 6.1153 - val_accuracy: 0.3729 - val_loss: 6.1152 - learning_rate: 1.0000e-04\nEpoch 94/100\n\u001b[1m179/179\u001b[0m \u001b[32m━━━━━━━━━━━━━━━━━━━━\u001b[0m\u001b[37m\u001b[0m \u001b[1m57s\u001b[0m 309ms/step - accuracy: 0.3665 - loss: 6.1153 - val_accuracy: 0.3697 - val_loss: 6.1152 - learning_rate: 1.0000e-04\nEpoch 95/100\n\u001b[1m179/179\u001b[0m \u001b[32m━━━━━━━━━━━━━━━━━━━━\u001b[0m\u001b[37m\u001b[0m \u001b[1m58s\u001b[0m 314ms/step - accuracy: 0.3636 - loss: 6.1153 - val_accuracy: 0.3729 - val_loss: 6.1152 - learning_rate: 1.0000e-04\nEpoch 96/100\n\u001b[1m179/179\u001b[0m \u001b[32m━━━━━━━━━━━━━━━━━━━━\u001b[0m\u001b[37m\u001b[0m \u001b[1m58s\u001b[0m 312ms/step - accuracy: 0.3667 - loss: 6.1153 - val_accuracy: 0.3776 - val_loss: 6.1152 - learning_rate: 1.0000e-04\nEpoch 97/100\n\u001b[1m179/179\u001b[0m \u001b[32m━━━━━━━━━━━━━━━━━━━━\u001b[0m\u001b[37m\u001b[0m \u001b[1m58s\u001b[0m 313ms/step - accuracy: 0.3611 - loss: 6.1153 - val_accuracy: 0.3772 - val_loss: 6.1152 - learning_rate: 1.0000e-04\nEpoch 98/100\n\u001b[1m179/179\u001b[0m \u001b[32m━━━━━━━━━━━━━━━━━━━━\u001b[0m\u001b[37m\u001b[0m \u001b[1m58s\u001b[0m 310ms/step - accuracy: 0.3625 - loss: 6.1153 - val_accuracy: 0.3721 - val_loss: 6.1152 - learning_rate: 1.0000e-04\nEpoch 99/100\n\u001b[1m179/179\u001b[0m \u001b[32m━━━━━━━━━━━━━━━━━━━━\u001b[0m\u001b[37m\u001b[0m \u001b[1m58s\u001b[0m 311ms/step - accuracy: 0.3625 - loss: 6.1153 - val_accuracy: 0.3756 - val_loss: 6.1152 - learning_rate: 1.0000e-04\nEpoch 100/100\n\u001b[1m179/179\u001b[0m \u001b[32m━━━━━━━━━━━━━━━━━━━━\u001b[0m\u001b[37m\u001b[0m \u001b[1m58s\u001b[0m 314ms/step - accuracy: 0.3668 - loss: 6.1153 - val_accuracy: 0.3756 - val_loss: 6.1152 - learning_rate: 1.0000e-04\n",
          "output_type": "stream"
        }
      ],
      "id": "KP0AExRD1m17"
    },
    {
      "cell_type": "code",
      "source": [
        "# Plot the loss curve for training\n",
        "plt.plot(history.history['loss'], color='orange', label=\"Train Loss\")\n",
        "plt.title(\"Train Loss\")\n",
        "plt.xlabel(\"Number of Epochs\")\n",
        "plt.ylabel(\"Loss\")\n",
        "plt.legend()\n",
        "plt.show()"
      ],
      "metadata": {
        "jupyter": {
          "is_executing": true
        },
        "execution": {
          "iopub.status.busy": "2024-04-26T00:16:43.986093Z",
          "iopub.execute_input": "2024-04-26T00:16:43.986817Z",
          "iopub.status.idle": "2024-04-26T00:16:44.304294Z",
          "shell.execute_reply.started": "2024-04-26T00:16:43.98676Z",
          "shell.execute_reply": "2024-04-26T00:16:44.303494Z"
        },
        "trusted": true,
        "id": "IkqaYGFA1m17",
        "outputId": "f1f95737-90be-4f58-f4d6-2875cacf0ea5"
      },
      "execution_count": null,
      "outputs": [
        {
          "output_type": "display_data",
          "data": {
            "text/plain": "<Figure size 640x480 with 1 Axes>",
            "image/png": "[encoded data removed]"
          },
          "metadata": {}
        }
      ],
      "id": "IkqaYGFA1m17"
    },
    {
      "cell_type": "code",
      "source": [
        "# Plot the accuracy curve for training\n",
        "plt.plot(history.history['accuracy'], color='blue', label=\"Train Accuracy\")\n",
        "plt.title(\"Train Accuracy\")\n",
        "plt.xlabel(\"Number of Epochs\")\n",
        "plt.ylabel(\"Accuracy\")\n",
        "plt.legend()\n",
        "plt.show()"
      ],
      "metadata": {
        "jupyter": {
          "is_executing": true
        },
        "execution": {
          "iopub.status.busy": "2024-04-26T00:34:47.359856Z",
          "iopub.execute_input": "2024-04-26T00:34:47.360832Z",
          "iopub.status.idle": "2024-04-26T00:34:47.610717Z",
          "shell.execute_reply.started": "2024-04-26T00:34:47.360768Z",
          "shell.execute_reply": "2024-04-26T00:34:47.609806Z"
        },
        "trusted": true,
        "id": "tAoyBJQI1m18",
        "outputId": "9ebb7384-bb9d-4ffd-a84b-1c29b747ec89"
      },
      "execution_count": null,
      "outputs": [
        {
          "output_type": "display_data",
          "data": {
            "text/plain": "<Figure size 640x480 with 1 Axes>",
            "image/png": "[encoded data removed]"
          },
          "metadata": {}
        }
      ],
      "id": "tAoyBJQI1m18"
    },
    {
      "cell_type": "code",
      "source": [
        "print('Train accuracy of the model: ',history.history['accuracy'][-1])"
      ],
      "metadata": {
        "execution": {
          "iopub.status.busy": "2024-04-26T00:34:58.317405Z",
          "iopub.execute_input": "2024-04-26T00:34:58.317756Z",
          "iopub.status.idle": "2024-04-26T00:34:58.323209Z",
          "shell.execute_reply.started": "2024-04-26T00:34:58.317728Z",
          "shell.execute_reply": "2024-04-26T00:34:58.322276Z"
        },
        "trusted": true,
        "id": "NiI1W7311m18",
        "outputId": "462bd8e1-8053-4f64-d769-ff93860bb281"
      },
      "execution_count": null,
      "outputs": [
        {
          "name": "stdout",
          "text": "Train accuracy of the model:  0.36553627252578735\n",
          "output_type": "stream"
        }
      ],
      "id": "NiI1W7311m18"
    },
    {
      "cell_type": "code",
      "source": [
        "print('Train loss of the model: ',history.history['loss'][-1])"
      ],
      "metadata": {
        "execution": {
          "iopub.status.busy": "2024-04-26T00:35:00.473422Z",
          "iopub.execute_input": "2024-04-26T00:35:00.473785Z",
          "iopub.status.idle": "2024-04-26T00:35:00.479007Z",
          "shell.execute_reply.started": "2024-04-26T00:35:00.473757Z",
          "shell.execute_reply": "2024-04-26T00:35:00.47808Z"
        },
        "trusted": true,
        "id": "rSiVxoJz1m18",
        "outputId": "fb26bd2d-5c79-4ed3-8cb5-5edd662f21c7"
      },
      "execution_count": null,
      "outputs": [
        {
          "name": "stdout",
          "text": "Train loss of the model:  6.115248680114746\n",
          "output_type": "stream"
        }
      ],
      "id": "rSiVxoJz1m18"
    },
    {
      "cell_type": "code",
      "source": [
        "model.save('model1.h5')"
      ],
      "metadata": {
        "execution": {
          "iopub.status.busy": "2024-04-26T00:36:33.159842Z",
          "iopub.execute_input": "2024-04-26T00:36:33.160639Z",
          "iopub.status.idle": "2024-04-26T00:36:33.276559Z",
          "shell.execute_reply.started": "2024-04-26T00:36:33.16061Z",
          "shell.execute_reply": "2024-04-26T00:36:33.275768Z"
        },
        "trusted": true,
        "id": "5t4S3rId1m18"
      },
      "execution_count": null,
      "outputs": [],
      "id": "5t4S3rId1m18"
    }
  ]
}